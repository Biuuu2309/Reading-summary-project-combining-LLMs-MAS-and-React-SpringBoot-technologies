{
  "cells": [
    {
      "cell_type": "code",
      "execution_count": 1,
      "id": "afd80eb7",
      "metadata": {
        "colab": {
          "base_uri": "https://localhost:8080/"
        },
        "id": "afd80eb7",
        "outputId": "f6f2e489-087a-4fda-9c5e-e2134f955ad7"
      },
      "outputs": [
        {
          "output_type": "stream",
          "name": "stdout",
          "text": [
            "Mounted at /content/drive\n"
          ]
        }
      ],
      "source": [
        "from google.colab import drive\n",
        "drive.mount('/content/drive')"
      ]
    },
    {
      "cell_type": "code",
      "execution_count": 2,
      "id": "13e962ec",
      "metadata": {
        "colab": {
          "base_uri": "https://localhost:8080/",
          "height": 532
        },
        "id": "13e962ec",
        "outputId": "933f9330-dd45-4f62-a9eb-91c5bbfa26df"
      },
      "outputs": [
        {
          "output_type": "stream",
          "name": "stdout",
          "text": [
            "Collecting google-cloud-vision\n",
            "  Downloading google_cloud_vision-3.11.0-py3-none-any.whl.metadata (9.8 kB)\n",
            "Requirement already satisfied: google-api-core!=2.0.*,!=2.1.*,!=2.10.*,!=2.2.*,!=2.3.*,!=2.4.*,!=2.5.*,!=2.6.*,!=2.7.*,!=2.8.*,!=2.9.*,<3.0.0,>=1.34.1 in /usr/local/lib/python3.12/dist-packages (from google-api-core[grpc]!=2.0.*,!=2.1.*,!=2.10.*,!=2.2.*,!=2.3.*,!=2.4.*,!=2.5.*,!=2.6.*,!=2.7.*,!=2.8.*,!=2.9.*,<3.0.0,>=1.34.1->google-cloud-vision) (2.26.0)\n",
            "Requirement already satisfied: google-auth!=2.24.0,!=2.25.0,<3.0.0,>=2.14.1 in /usr/local/lib/python3.12/dist-packages (from google-cloud-vision) (2.38.0)\n",
            "Requirement already satisfied: grpcio<2.0.0,>=1.33.2 in /usr/local/lib/python3.12/dist-packages (from google-cloud-vision) (1.75.1)\n",
            "Requirement already satisfied: proto-plus<2.0.0,>=1.22.3 in /usr/local/lib/python3.12/dist-packages (from google-cloud-vision) (1.26.1)\n",
            "Requirement already satisfied: protobuf!=4.21.0,!=4.21.1,!=4.21.2,!=4.21.3,!=4.21.4,!=4.21.5,<7.0.0,>=3.20.2 in /usr/local/lib/python3.12/dist-packages (from google-cloud-vision) (5.29.5)\n",
            "Requirement already satisfied: googleapis-common-protos<2.0.0,>=1.56.2 in /usr/local/lib/python3.12/dist-packages (from google-api-core!=2.0.*,!=2.1.*,!=2.10.*,!=2.2.*,!=2.3.*,!=2.4.*,!=2.5.*,!=2.6.*,!=2.7.*,!=2.8.*,!=2.9.*,<3.0.0,>=1.34.1->google-api-core[grpc]!=2.0.*,!=2.1.*,!=2.10.*,!=2.2.*,!=2.3.*,!=2.4.*,!=2.5.*,!=2.6.*,!=2.7.*,!=2.8.*,!=2.9.*,<3.0.0,>=1.34.1->google-cloud-vision) (1.71.0)\n",
            "Requirement already satisfied: requests<3.0.0,>=2.18.0 in /usr/local/lib/python3.12/dist-packages (from google-api-core!=2.0.*,!=2.1.*,!=2.10.*,!=2.2.*,!=2.3.*,!=2.4.*,!=2.5.*,!=2.6.*,!=2.7.*,!=2.8.*,!=2.9.*,<3.0.0,>=1.34.1->google-api-core[grpc]!=2.0.*,!=2.1.*,!=2.10.*,!=2.2.*,!=2.3.*,!=2.4.*,!=2.5.*,!=2.6.*,!=2.7.*,!=2.8.*,!=2.9.*,<3.0.0,>=1.34.1->google-cloud-vision) (2.32.4)\n",
            "Requirement already satisfied: grpcio-status<2.0.0,>=1.33.2 in /usr/local/lib/python3.12/dist-packages (from google-api-core[grpc]!=2.0.*,!=2.1.*,!=2.10.*,!=2.2.*,!=2.3.*,!=2.4.*,!=2.5.*,!=2.6.*,!=2.7.*,!=2.8.*,!=2.9.*,<3.0.0,>=1.34.1->google-cloud-vision) (1.71.2)\n",
            "Requirement already satisfied: cachetools<6.0,>=2.0.0 in /usr/local/lib/python3.12/dist-packages (from google-auth!=2.24.0,!=2.25.0,<3.0.0,>=2.14.1->google-cloud-vision) (5.5.2)\n",
            "Requirement already satisfied: pyasn1-modules>=0.2.1 in /usr/local/lib/python3.12/dist-packages (from google-auth!=2.24.0,!=2.25.0,<3.0.0,>=2.14.1->google-cloud-vision) (0.4.2)\n",
            "Requirement already satisfied: rsa<5,>=3.1.4 in /usr/local/lib/python3.12/dist-packages (from google-auth!=2.24.0,!=2.25.0,<3.0.0,>=2.14.1->google-cloud-vision) (4.9.1)\n",
            "Requirement already satisfied: typing-extensions~=4.12 in /usr/local/lib/python3.12/dist-packages (from grpcio<2.0.0,>=1.33.2->google-cloud-vision) (4.15.0)\n",
            "Requirement already satisfied: pyasn1<0.7.0,>=0.6.1 in /usr/local/lib/python3.12/dist-packages (from pyasn1-modules>=0.2.1->google-auth!=2.24.0,!=2.25.0,<3.0.0,>=2.14.1->google-cloud-vision) (0.6.1)\n",
            "Requirement already satisfied: charset_normalizer<4,>=2 in /usr/local/lib/python3.12/dist-packages (from requests<3.0.0,>=2.18.0->google-api-core!=2.0.*,!=2.1.*,!=2.10.*,!=2.2.*,!=2.3.*,!=2.4.*,!=2.5.*,!=2.6.*,!=2.7.*,!=2.8.*,!=2.9.*,<3.0.0,>=1.34.1->google-api-core[grpc]!=2.0.*,!=2.1.*,!=2.10.*,!=2.2.*,!=2.3.*,!=2.4.*,!=2.5.*,!=2.6.*,!=2.7.*,!=2.8.*,!=2.9.*,<3.0.0,>=1.34.1->google-cloud-vision) (3.4.4)\n",
            "Requirement already satisfied: idna<4,>=2.5 in /usr/local/lib/python3.12/dist-packages (from requests<3.0.0,>=2.18.0->google-api-core!=2.0.*,!=2.1.*,!=2.10.*,!=2.2.*,!=2.3.*,!=2.4.*,!=2.5.*,!=2.6.*,!=2.7.*,!=2.8.*,!=2.9.*,<3.0.0,>=1.34.1->google-api-core[grpc]!=2.0.*,!=2.1.*,!=2.10.*,!=2.2.*,!=2.3.*,!=2.4.*,!=2.5.*,!=2.6.*,!=2.7.*,!=2.8.*,!=2.9.*,<3.0.0,>=1.34.1->google-cloud-vision) (3.11)\n",
            "Requirement already satisfied: urllib3<3,>=1.21.1 in /usr/local/lib/python3.12/dist-packages (from requests<3.0.0,>=2.18.0->google-api-core!=2.0.*,!=2.1.*,!=2.10.*,!=2.2.*,!=2.3.*,!=2.4.*,!=2.5.*,!=2.6.*,!=2.7.*,!=2.8.*,!=2.9.*,<3.0.0,>=1.34.1->google-api-core[grpc]!=2.0.*,!=2.1.*,!=2.10.*,!=2.2.*,!=2.3.*,!=2.4.*,!=2.5.*,!=2.6.*,!=2.7.*,!=2.8.*,!=2.9.*,<3.0.0,>=1.34.1->google-cloud-vision) (2.5.0)\n",
            "Requirement already satisfied: certifi>=2017.4.17 in /usr/local/lib/python3.12/dist-packages (from requests<3.0.0,>=2.18.0->google-api-core!=2.0.*,!=2.1.*,!=2.10.*,!=2.2.*,!=2.3.*,!=2.4.*,!=2.5.*,!=2.6.*,!=2.7.*,!=2.8.*,!=2.9.*,<3.0.0,>=1.34.1->google-api-core[grpc]!=2.0.*,!=2.1.*,!=2.10.*,!=2.2.*,!=2.3.*,!=2.4.*,!=2.5.*,!=2.6.*,!=2.7.*,!=2.8.*,!=2.9.*,<3.0.0,>=1.34.1->google-cloud-vision) (2025.10.5)\n",
            "Downloading google_cloud_vision-3.11.0-py3-none-any.whl (529 kB)\n",
            "\u001b[2K   \u001b[90m━━━━━━━━━━━━━━━━━━━━━━━━━━━━━━━━━━━━━━━━\u001b[0m \u001b[32m529.1/529.1 kB\u001b[0m \u001b[31m9.5 MB/s\u001b[0m eta \u001b[36m0:00:00\u001b[0m\n",
            "\u001b[?25hInstalling collected packages: google-cloud-vision\n",
            "Successfully installed google-cloud-vision-3.11.0\n"
          ]
        },
        {
          "output_type": "display_data",
          "data": {
            "application/vnd.colab-display-data+json": {
              "pip_warning": {
                "packages": [
                  "google"
                ]
              },
              "id": "77c5761f9e6f4e1f956a8547bfd3bfc1"
            }
          },
          "metadata": {}
        }
      ],
      "source": [
        "!pip install google-cloud-vision"
      ]
    },
    {
      "cell_type": "markdown",
      "id": "8cafbb9a",
      "metadata": {
        "id": "8cafbb9a"
      },
      "source": [
        "----------------------------------------------------TEST----------------------------------------------------"
      ]
    },
    {
      "cell_type": "code",
      "execution_count": 4,
      "id": "5a6b2540",
      "metadata": {
        "colab": {
          "base_uri": "https://localhost:8080/"
        },
        "id": "5a6b2540",
        "outputId": "58c9fa35-8ce1-4baf-b76d-59cfafb0464e"
      },
      "outputs": [
        {
          "output_type": "stream",
          "name": "stdout",
          "text": [
            "===== Kết quả OCR =====\n",
            "Bài Mở đầu\n",
            "Em là học sinh\n",
            "Em việt\n",
            "Em nói\n",
            "Em doc\n",
            "Đồ dùng học tập\n",
            "Đồ dùng học tập\n",
            "Em làm việc nhóm\n",
            "Em trải nghiêm\n",
            "Em học ở nhà\n"
          ]
        }
      ],
      "source": [
        "\n",
        "import os\n",
        "from google.cloud import vision\n",
        "\n",
        "# ✅ Thiết lập credentials đúng file JSON của bạn\n",
        "os.environ[\"GOOGLE_APPLICATION_CREDENTIALS\"] = \"/content/drive/MyDrive/credentials/projectsummarize-fbeb4ca13ea2.json\"\n",
        "\n",
        "# 🔹 Khởi tạo client\n",
        "client = vision.ImageAnnotatorClient()\n",
        "\n",
        "# 🔹 Hàm OCR\n",
        "def google_vision_ocr(image_path):\n",
        "    with open(image_path, \"rb\") as image_file:\n",
        "        content = image_file.read()\n",
        "    image = vision.Image(content=content)\n",
        "    response = client.document_text_detection(image=image)\n",
        "    return response.full_text_annotation.text\n",
        "\n",
        "# ✅ Test OCR với ảnh của bạn\n",
        "image_path = \"/content/drive/MyDrive/images/Screenshot 2025-10-04 154203.png\"  # thay nếu khác\n",
        "text = google_vision_ocr(image_path)\n",
        "\n",
        "print(\"===== Kết quả OCR =====\")\n",
        "print(text)\n"
      ]
    },
    {
      "cell_type": "markdown",
      "id": "150992ba",
      "metadata": {
        "id": "150992ba"
      },
      "source": [
        "----------------------------------------------------START----------------------------------------------------"
      ]
    },
    {
      "cell_type": "code",
      "execution_count": 6,
      "id": "47c7ee2f",
      "metadata": {
        "colab": {
          "base_uri": "https://localhost:8080/",
          "height": 1000
        },
        "id": "47c7ee2f",
        "outputId": "d7e20c55-1927-4c31-dd11-6d1996b8d887"
      },
      "outputs": [
        {
          "output_type": "stream",
          "name": "stdout",
          "text": [
            "🔍 Đang OCR ảnh: Screenshot 2025-10-12 161114.png\n",
            "🔍 Đang OCR ảnh: Screenshot 2025-10-12 161129.png\n",
            "🔍 Đang OCR ảnh: Screenshot 2025-10-12 161136.png\n",
            "🔍 Đang OCR ảnh: Screenshot 2025-10-12 161138.png\n",
            "🔍 Đang OCR ảnh: Screenshot 2025-10-12 161057.png\n",
            "🔍 Đang OCR ảnh: Screenshot 2025-10-12 161149.png\n",
            "🔍 Đang OCR ảnh: Screenshot 2025-10-12 161142.png\n",
            "🔍 Đang OCR ảnh: Screenshot 2025-10-12 161151.png\n",
            "🔍 Đang OCR ảnh: Screenshot 2025-10-12 161154.png\n",
            "🔍 Đang OCR ảnh: Screenshot 2025-10-12 161157.png\n",
            "🔍 Đang OCR ảnh: Screenshot 2025-10-12 161201.png\n",
            "🔍 Đang OCR ảnh: Screenshot 2025-10-12 161207.png\n",
            "🔍 Đang OCR ảnh: Screenshot 2025-10-12 161214.png\n",
            "🔍 Đang OCR ảnh: Screenshot 2025-10-12 161218.png\n",
            "🔍 Đang OCR ảnh: Screenshot 2025-10-12 161221.png\n",
            "🔍 Đang OCR ảnh: Screenshot 2025-10-12 161226.png\n",
            "🔍 Đang OCR ảnh: Screenshot 2025-10-12 161233.png\n",
            "🔍 Đang OCR ảnh: Screenshot 2025-10-12 161239.png\n",
            "🔍 Đang OCR ảnh: Screenshot 2025-10-12 161249.png\n",
            "🔍 Đang OCR ảnh: Screenshot 2025-10-12 161253.png\n",
            "🔍 Đang OCR ảnh: Screenshot 2025-10-12 161243.png\n",
            "🔍 Đang OCR ảnh: Screenshot 2025-10-12 161259.png\n",
            "🔍 Đang OCR ảnh: Screenshot 2025-10-12 161302.png\n"
          ]
        },
        {
          "output_type": "error",
          "ename": "KeyboardInterrupt",
          "evalue": "",
          "traceback": [
            "\u001b[0;31m---------------------------------------------------------------------------\u001b[0m",
            "\u001b[0;31mKeyboardInterrupt\u001b[0m                         Traceback (most recent call last)",
            "\u001b[0;32m/tmp/ipython-input-3105912376.py\u001b[0m in \u001b[0;36m<cell line: 0>\u001b[0;34m()\u001b[0m\n\u001b[1;32m     24\u001b[0m             \u001b[0mimage_path\u001b[0m \u001b[0;34m=\u001b[0m \u001b[0mos\u001b[0m\u001b[0;34m.\u001b[0m\u001b[0mpath\u001b[0m\u001b[0;34m.\u001b[0m\u001b[0mjoin\u001b[0m\u001b[0;34m(\u001b[0m\u001b[0mimage_folder\u001b[0m\u001b[0;34m,\u001b[0m \u001b[0mfilename\u001b[0m\u001b[0;34m)\u001b[0m\u001b[0;34m\u001b[0m\u001b[0;34m\u001b[0m\u001b[0m\n\u001b[1;32m     25\u001b[0m             \u001b[0mprint\u001b[0m\u001b[0;34m(\u001b[0m\u001b[0;34mf\"🔍 Đang OCR ảnh: {filename}\"\u001b[0m\u001b[0;34m)\u001b[0m\u001b[0;34m\u001b[0m\u001b[0;34m\u001b[0m\u001b[0m\n\u001b[0;32m---> 26\u001b[0;31m             \u001b[0mtext\u001b[0m \u001b[0;34m=\u001b[0m \u001b[0mgoogle_vision_ocr\u001b[0m\u001b[0;34m(\u001b[0m\u001b[0mimage_path\u001b[0m\u001b[0;34m)\u001b[0m\u001b[0;34m\u001b[0m\u001b[0;34m\u001b[0m\u001b[0m\n\u001b[0m\u001b[1;32m     27\u001b[0m \u001b[0;34m\u001b[0m\u001b[0m\n\u001b[1;32m     28\u001b[0m             \u001b[0;31m# Ghi vào file với tiêu đề ảnh\u001b[0m\u001b[0;34m\u001b[0m\u001b[0;34m\u001b[0m\u001b[0m\n",
            "\u001b[0;32m/tmp/ipython-input-3105912376.py\u001b[0m in \u001b[0;36mgoogle_vision_ocr\u001b[0;34m(image_path)\u001b[0m\n\u001b[1;32m     11\u001b[0m         \u001b[0mcontent\u001b[0m \u001b[0;34m=\u001b[0m \u001b[0mimage_file\u001b[0m\u001b[0;34m.\u001b[0m\u001b[0mread\u001b[0m\u001b[0;34m(\u001b[0m\u001b[0;34m)\u001b[0m\u001b[0;34m\u001b[0m\u001b[0;34m\u001b[0m\u001b[0m\n\u001b[1;32m     12\u001b[0m     \u001b[0mimage\u001b[0m \u001b[0;34m=\u001b[0m \u001b[0mvision\u001b[0m\u001b[0;34m.\u001b[0m\u001b[0mImage\u001b[0m\u001b[0;34m(\u001b[0m\u001b[0mcontent\u001b[0m\u001b[0;34m=\u001b[0m\u001b[0mcontent\u001b[0m\u001b[0;34m)\u001b[0m\u001b[0;34m\u001b[0m\u001b[0;34m\u001b[0m\u001b[0m\n\u001b[0;32m---> 13\u001b[0;31m     \u001b[0mresponse\u001b[0m \u001b[0;34m=\u001b[0m \u001b[0mclient\u001b[0m\u001b[0;34m.\u001b[0m\u001b[0mdocument_text_detection\u001b[0m\u001b[0;34m(\u001b[0m\u001b[0mimage\u001b[0m\u001b[0;34m=\u001b[0m\u001b[0mimage\u001b[0m\u001b[0;34m)\u001b[0m\u001b[0;34m\u001b[0m\u001b[0;34m\u001b[0m\u001b[0m\n\u001b[0m\u001b[1;32m     14\u001b[0m     \u001b[0;32mreturn\u001b[0m \u001b[0mresponse\u001b[0m\u001b[0;34m.\u001b[0m\u001b[0mfull_text_annotation\u001b[0m\u001b[0;34m.\u001b[0m\u001b[0mtext\u001b[0m\u001b[0;34m\u001b[0m\u001b[0;34m\u001b[0m\u001b[0m\n\u001b[1;32m     15\u001b[0m \u001b[0;34m\u001b[0m\u001b[0m\n",
            "\u001b[0;32m/usr/local/lib/python3.12/dist-packages/google/cloud/vision_helpers/decorators.py\u001b[0m in \u001b[0;36minner\u001b[0;34m(self, image, max_results, retry, timeout, metadata, **kwargs)\u001b[0m\n\u001b[1;32m    110\u001b[0m             \u001b[0mcopied_features\u001b[0m\u001b[0;34m[\u001b[0m\u001b[0;34m\"max_results\"\u001b[0m\u001b[0;34m]\u001b[0m \u001b[0;34m=\u001b[0m \u001b[0mmax_results\u001b[0m\u001b[0;34m\u001b[0m\u001b[0;34m\u001b[0m\u001b[0m\n\u001b[1;32m    111\u001b[0m         \u001b[0mrequest\u001b[0m \u001b[0;34m=\u001b[0m \u001b[0mdict\u001b[0m\u001b[0;34m(\u001b[0m\u001b[0mimage\u001b[0m\u001b[0;34m=\u001b[0m\u001b[0mimage\u001b[0m\u001b[0;34m,\u001b[0m \u001b[0mfeatures\u001b[0m\u001b[0;34m=\u001b[0m\u001b[0;34m[\u001b[0m\u001b[0mcopied_features\u001b[0m\u001b[0;34m]\u001b[0m\u001b[0;34m,\u001b[0m \u001b[0;34m**\u001b[0m\u001b[0mkwargs\u001b[0m\u001b[0;34m)\u001b[0m\u001b[0;34m\u001b[0m\u001b[0;34m\u001b[0m\u001b[0m\n\u001b[0;32m--> 112\u001b[0;31m         response = self.annotate_image(\n\u001b[0m\u001b[1;32m    113\u001b[0m             \u001b[0mrequest\u001b[0m\u001b[0;34m,\u001b[0m \u001b[0mretry\u001b[0m\u001b[0;34m=\u001b[0m\u001b[0mretry\u001b[0m\u001b[0;34m,\u001b[0m \u001b[0mtimeout\u001b[0m\u001b[0;34m=\u001b[0m\u001b[0mtimeout\u001b[0m\u001b[0;34m,\u001b[0m \u001b[0mmetadata\u001b[0m\u001b[0;34m=\u001b[0m\u001b[0mmetadata\u001b[0m\u001b[0;34m\u001b[0m\u001b[0;34m\u001b[0m\u001b[0m\n\u001b[1;32m    114\u001b[0m         )\n",
            "\u001b[0;32m/usr/local/lib/python3.12/dist-packages/google/cloud/vision_helpers/__init__.py\u001b[0m in \u001b[0;36mannotate_image\u001b[0;34m(self, request, retry, timeout, metadata)\u001b[0m\n\u001b[1;32m     74\u001b[0m         \u001b[0;32melif\u001b[0m \u001b[0mlen\u001b[0m\u001b[0;34m(\u001b[0m\u001b[0mrequest\u001b[0m\u001b[0;34m.\u001b[0m\u001b[0mfeatures\u001b[0m\u001b[0;34m)\u001b[0m \u001b[0;34m==\u001b[0m \u001b[0;36m0\u001b[0m\u001b[0;34m:\u001b[0m\u001b[0;34m\u001b[0m\u001b[0;34m\u001b[0m\u001b[0m\n\u001b[1;32m     75\u001b[0m             \u001b[0mrequest\u001b[0m\u001b[0;34m.\u001b[0m\u001b[0mfeatures\u001b[0m \u001b[0;34m=\u001b[0m \u001b[0mself\u001b[0m\u001b[0;34m.\u001b[0m\u001b[0m_get_all_features\u001b[0m\u001b[0;34m(\u001b[0m\u001b[0;34m)\u001b[0m\u001b[0;34m\u001b[0m\u001b[0;34m\u001b[0m\u001b[0m\n\u001b[0;32m---> 76\u001b[0;31m         r = self.batch_annotate_images(\n\u001b[0m\u001b[1;32m     77\u001b[0m             \u001b[0mrequests\u001b[0m\u001b[0;34m=\u001b[0m\u001b[0;34m[\u001b[0m\u001b[0mrequest\u001b[0m\u001b[0;34m]\u001b[0m\u001b[0;34m,\u001b[0m \u001b[0mretry\u001b[0m\u001b[0;34m=\u001b[0m\u001b[0mretry\u001b[0m\u001b[0;34m,\u001b[0m \u001b[0mtimeout\u001b[0m\u001b[0;34m=\u001b[0m\u001b[0mtimeout\u001b[0m\u001b[0;34m,\u001b[0m \u001b[0mmetadata\u001b[0m\u001b[0;34m=\u001b[0m\u001b[0mmetadata\u001b[0m\u001b[0;34m\u001b[0m\u001b[0;34m\u001b[0m\u001b[0m\n\u001b[1;32m     78\u001b[0m         )\n",
            "\u001b[0;32m/usr/local/lib/python3.12/dist-packages/google/cloud/vision_v1/services/image_annotator/client.py\u001b[0m in \u001b[0;36mbatch_annotate_images\u001b[0;34m(self, request, requests, retry, timeout, metadata)\u001b[0m\n\u001b[1;32m    838\u001b[0m \u001b[0;34m\u001b[0m\u001b[0m\n\u001b[1;32m    839\u001b[0m         \u001b[0;31m# Send the request.\u001b[0m\u001b[0;34m\u001b[0m\u001b[0;34m\u001b[0m\u001b[0m\n\u001b[0;32m--> 840\u001b[0;31m         response = rpc(\n\u001b[0m\u001b[1;32m    841\u001b[0m             \u001b[0mrequest\u001b[0m\u001b[0;34m,\u001b[0m\u001b[0;34m\u001b[0m\u001b[0;34m\u001b[0m\u001b[0m\n\u001b[1;32m    842\u001b[0m             \u001b[0mretry\u001b[0m\u001b[0;34m=\u001b[0m\u001b[0mretry\u001b[0m\u001b[0;34m,\u001b[0m\u001b[0;34m\u001b[0m\u001b[0;34m\u001b[0m\u001b[0m\n",
            "\u001b[0;32m/usr/local/lib/python3.12/dist-packages/google/api_core/gapic_v1/method.py\u001b[0m in \u001b[0;36m__call__\u001b[0;34m(self, timeout, retry, compression, *args, **kwargs)\u001b[0m\n\u001b[1;32m    129\u001b[0m             \u001b[0mkwargs\u001b[0m\u001b[0;34m[\u001b[0m\u001b[0;34m\"compression\"\u001b[0m\u001b[0;34m]\u001b[0m \u001b[0;34m=\u001b[0m \u001b[0mcompression\u001b[0m\u001b[0;34m\u001b[0m\u001b[0;34m\u001b[0m\u001b[0m\n\u001b[1;32m    130\u001b[0m \u001b[0;34m\u001b[0m\u001b[0m\n\u001b[0;32m--> 131\u001b[0;31m         \u001b[0;32mreturn\u001b[0m \u001b[0mwrapped_func\u001b[0m\u001b[0;34m(\u001b[0m\u001b[0;34m*\u001b[0m\u001b[0margs\u001b[0m\u001b[0;34m,\u001b[0m \u001b[0;34m**\u001b[0m\u001b[0mkwargs\u001b[0m\u001b[0;34m)\u001b[0m\u001b[0;34m\u001b[0m\u001b[0;34m\u001b[0m\u001b[0m\n\u001b[0m\u001b[1;32m    132\u001b[0m \u001b[0;34m\u001b[0m\u001b[0m\n\u001b[1;32m    133\u001b[0m \u001b[0;34m\u001b[0m\u001b[0m\n",
            "\u001b[0;32m/usr/local/lib/python3.12/dist-packages/google/api_core/grpc_helpers.py\u001b[0m in \u001b[0;36merror_remapped_callable\u001b[0;34m(*args, **kwargs)\u001b[0m\n\u001b[1;32m     73\u001b[0m     \u001b[0;32mdef\u001b[0m \u001b[0merror_remapped_callable\u001b[0m\u001b[0;34m(\u001b[0m\u001b[0;34m*\u001b[0m\u001b[0margs\u001b[0m\u001b[0;34m,\u001b[0m \u001b[0;34m**\u001b[0m\u001b[0mkwargs\u001b[0m\u001b[0;34m)\u001b[0m\u001b[0;34m:\u001b[0m\u001b[0;34m\u001b[0m\u001b[0;34m\u001b[0m\u001b[0m\n\u001b[1;32m     74\u001b[0m         \u001b[0;32mtry\u001b[0m\u001b[0;34m:\u001b[0m\u001b[0;34m\u001b[0m\u001b[0;34m\u001b[0m\u001b[0m\n\u001b[0;32m---> 75\u001b[0;31m             \u001b[0;32mreturn\u001b[0m \u001b[0mcallable_\u001b[0m\u001b[0;34m(\u001b[0m\u001b[0;34m*\u001b[0m\u001b[0margs\u001b[0m\u001b[0;34m,\u001b[0m \u001b[0;34m**\u001b[0m\u001b[0mkwargs\u001b[0m\u001b[0;34m)\u001b[0m\u001b[0;34m\u001b[0m\u001b[0;34m\u001b[0m\u001b[0m\n\u001b[0m\u001b[1;32m     76\u001b[0m         \u001b[0;32mexcept\u001b[0m \u001b[0mgrpc\u001b[0m\u001b[0;34m.\u001b[0m\u001b[0mRpcError\u001b[0m \u001b[0;32mas\u001b[0m \u001b[0mexc\u001b[0m\u001b[0;34m:\u001b[0m\u001b[0;34m\u001b[0m\u001b[0;34m\u001b[0m\u001b[0m\n\u001b[1;32m     77\u001b[0m             \u001b[0;32mraise\u001b[0m \u001b[0mexceptions\u001b[0m\u001b[0;34m.\u001b[0m\u001b[0mfrom_grpc_error\u001b[0m\u001b[0;34m(\u001b[0m\u001b[0mexc\u001b[0m\u001b[0;34m)\u001b[0m \u001b[0;32mfrom\u001b[0m \u001b[0mexc\u001b[0m\u001b[0;34m\u001b[0m\u001b[0;34m\u001b[0m\u001b[0m\n",
            "\u001b[0;32m/usr/local/lib/python3.12/dist-packages/grpc/_interceptor.py\u001b[0m in \u001b[0;36m__call__\u001b[0;34m(self, request, timeout, metadata, credentials, wait_for_ready, compression)\u001b[0m\n\u001b[1;32m    275\u001b[0m         \u001b[0mcompression\u001b[0m\u001b[0;34m:\u001b[0m \u001b[0mOptional\u001b[0m\u001b[0;34m[\u001b[0m\u001b[0mgrpc\u001b[0m\u001b[0;34m.\u001b[0m\u001b[0mCompression\u001b[0m\u001b[0;34m]\u001b[0m \u001b[0;34m=\u001b[0m \u001b[0;32mNone\u001b[0m\u001b[0;34m,\u001b[0m\u001b[0;34m\u001b[0m\u001b[0;34m\u001b[0m\u001b[0m\n\u001b[1;32m    276\u001b[0m     ) -> Any:\n\u001b[0;32m--> 277\u001b[0;31m         response, ignored_call = self._with_call(\n\u001b[0m\u001b[1;32m    278\u001b[0m             \u001b[0mrequest\u001b[0m\u001b[0;34m,\u001b[0m\u001b[0;34m\u001b[0m\u001b[0;34m\u001b[0m\u001b[0m\n\u001b[1;32m    279\u001b[0m             \u001b[0mtimeout\u001b[0m\u001b[0;34m=\u001b[0m\u001b[0mtimeout\u001b[0m\u001b[0;34m,\u001b[0m\u001b[0;34m\u001b[0m\u001b[0;34m\u001b[0m\u001b[0m\n",
            "\u001b[0;32m/usr/local/lib/python3.12/dist-packages/grpc/_interceptor.py\u001b[0m in \u001b[0;36m_with_call\u001b[0;34m(self, request, timeout, metadata, credentials, wait_for_ready, compression)\u001b[0m\n\u001b[1;32m    327\u001b[0m                 \u001b[0;32mreturn\u001b[0m \u001b[0m_FailureOutcome\u001b[0m\u001b[0;34m(\u001b[0m\u001b[0mexception\u001b[0m\u001b[0;34m,\u001b[0m \u001b[0msys\u001b[0m\u001b[0;34m.\u001b[0m\u001b[0mexc_info\u001b[0m\u001b[0;34m(\u001b[0m\u001b[0;34m)\u001b[0m\u001b[0;34m[\u001b[0m\u001b[0;36m2\u001b[0m\u001b[0;34m]\u001b[0m\u001b[0;34m)\u001b[0m\u001b[0;34m\u001b[0m\u001b[0;34m\u001b[0m\u001b[0m\n\u001b[1;32m    328\u001b[0m \u001b[0;34m\u001b[0m\u001b[0m\n\u001b[0;32m--> 329\u001b[0;31m         call = self._interceptor.intercept_unary_unary(\n\u001b[0m\u001b[1;32m    330\u001b[0m             \u001b[0mcontinuation\u001b[0m\u001b[0;34m,\u001b[0m \u001b[0mclient_call_details\u001b[0m\u001b[0;34m,\u001b[0m \u001b[0mrequest\u001b[0m\u001b[0;34m\u001b[0m\u001b[0;34m\u001b[0m\u001b[0m\n\u001b[1;32m    331\u001b[0m         )\n",
            "\u001b[0;32m/usr/local/lib/python3.12/dist-packages/google/cloud/vision_v1/services/image_annotator/transports/grpc.py\u001b[0m in \u001b[0;36mintercept_unary_unary\u001b[0;34m(self, continuation, client_call_details, request)\u001b[0m\n\u001b[1;32m     76\u001b[0m                 },\n\u001b[1;32m     77\u001b[0m             )\n\u001b[0;32m---> 78\u001b[0;31m         \u001b[0mresponse\u001b[0m \u001b[0;34m=\u001b[0m \u001b[0mcontinuation\u001b[0m\u001b[0;34m(\u001b[0m\u001b[0mclient_call_details\u001b[0m\u001b[0;34m,\u001b[0m \u001b[0mrequest\u001b[0m\u001b[0;34m)\u001b[0m\u001b[0;34m\u001b[0m\u001b[0;34m\u001b[0m\u001b[0m\n\u001b[0m\u001b[1;32m     79\u001b[0m         \u001b[0;32mif\u001b[0m \u001b[0mlogging_enabled\u001b[0m\u001b[0;34m:\u001b[0m  \u001b[0;31m# pragma: NO COVER\u001b[0m\u001b[0;34m\u001b[0m\u001b[0;34m\u001b[0m\u001b[0m\n\u001b[1;32m     80\u001b[0m             \u001b[0mresponse_metadata\u001b[0m \u001b[0;34m=\u001b[0m \u001b[0mresponse\u001b[0m\u001b[0;34m.\u001b[0m\u001b[0mtrailing_metadata\u001b[0m\u001b[0;34m(\u001b[0m\u001b[0;34m)\u001b[0m\u001b[0;34m\u001b[0m\u001b[0;34m\u001b[0m\u001b[0m\n",
            "\u001b[0;32m/usr/local/lib/python3.12/dist-packages/grpc/_interceptor.py\u001b[0m in \u001b[0;36mcontinuation\u001b[0;34m(new_details, request)\u001b[0m\n\u001b[1;32m    313\u001b[0m             ) = _unwrap_client_call_details(new_details, client_call_details)\n\u001b[1;32m    314\u001b[0m             \u001b[0;32mtry\u001b[0m\u001b[0;34m:\u001b[0m\u001b[0;34m\u001b[0m\u001b[0;34m\u001b[0m\u001b[0m\n\u001b[0;32m--> 315\u001b[0;31m                 response, call = self._thunk(new_method).with_call(\n\u001b[0m\u001b[1;32m    316\u001b[0m                     \u001b[0mrequest\u001b[0m\u001b[0;34m,\u001b[0m\u001b[0;34m\u001b[0m\u001b[0;34m\u001b[0m\u001b[0m\n\u001b[1;32m    317\u001b[0m                     \u001b[0mtimeout\u001b[0m\u001b[0;34m=\u001b[0m\u001b[0mnew_timeout\u001b[0m\u001b[0;34m,\u001b[0m\u001b[0;34m\u001b[0m\u001b[0;34m\u001b[0m\u001b[0m\n",
            "\u001b[0;32m/usr/local/lib/python3.12/dist-packages/grpc/_channel.py\u001b[0m in \u001b[0;36mwith_call\u001b[0;34m(self, request, timeout, metadata, credentials, wait_for_ready, compression)\u001b[0m\n\u001b[1;32m   1190\u001b[0m         \u001b[0mcompression\u001b[0m\u001b[0;34m:\u001b[0m \u001b[0mOptional\u001b[0m\u001b[0;34m[\u001b[0m\u001b[0mgrpc\u001b[0m\u001b[0;34m.\u001b[0m\u001b[0mCompression\u001b[0m\u001b[0;34m]\u001b[0m \u001b[0;34m=\u001b[0m \u001b[0;32mNone\u001b[0m\u001b[0;34m,\u001b[0m\u001b[0;34m\u001b[0m\u001b[0;34m\u001b[0m\u001b[0m\n\u001b[1;32m   1191\u001b[0m     ) -> Tuple[Any, grpc.Call]:\n\u001b[0;32m-> 1192\u001b[0;31m         state, call = self._blocking(\n\u001b[0m\u001b[1;32m   1193\u001b[0m             \u001b[0mrequest\u001b[0m\u001b[0;34m,\u001b[0m \u001b[0mtimeout\u001b[0m\u001b[0;34m,\u001b[0m \u001b[0mmetadata\u001b[0m\u001b[0;34m,\u001b[0m \u001b[0mcredentials\u001b[0m\u001b[0;34m,\u001b[0m \u001b[0mwait_for_ready\u001b[0m\u001b[0;34m,\u001b[0m \u001b[0mcompression\u001b[0m\u001b[0;34m\u001b[0m\u001b[0;34m\u001b[0m\u001b[0m\n\u001b[1;32m   1194\u001b[0m         )\n",
            "\u001b[0;32m/usr/local/lib/python3.12/dist-packages/grpc/_channel.py\u001b[0m in \u001b[0;36m_blocking\u001b[0;34m(self, request, timeout, metadata, credentials, wait_for_ready, compression)\u001b[0m\n\u001b[1;32m   1163\u001b[0m                 \u001b[0mself\u001b[0m\u001b[0;34m.\u001b[0m\u001b[0m_registered_call_handle\u001b[0m\u001b[0;34m,\u001b[0m\u001b[0;34m\u001b[0m\u001b[0;34m\u001b[0m\u001b[0m\n\u001b[1;32m   1164\u001b[0m             )\n\u001b[0;32m-> 1165\u001b[0;31m             \u001b[0mevent\u001b[0m \u001b[0;34m=\u001b[0m \u001b[0mcall\u001b[0m\u001b[0;34m.\u001b[0m\u001b[0mnext_event\u001b[0m\u001b[0;34m(\u001b[0m\u001b[0;34m)\u001b[0m\u001b[0;34m\u001b[0m\u001b[0;34m\u001b[0m\u001b[0m\n\u001b[0m\u001b[1;32m   1166\u001b[0m             \u001b[0m_handle_event\u001b[0m\u001b[0;34m(\u001b[0m\u001b[0mevent\u001b[0m\u001b[0;34m,\u001b[0m \u001b[0mstate\u001b[0m\u001b[0;34m,\u001b[0m \u001b[0mself\u001b[0m\u001b[0;34m.\u001b[0m\u001b[0m_response_deserializer\u001b[0m\u001b[0;34m)\u001b[0m\u001b[0;34m\u001b[0m\u001b[0;34m\u001b[0m\u001b[0m\n\u001b[1;32m   1167\u001b[0m             \u001b[0;32mreturn\u001b[0m \u001b[0mstate\u001b[0m\u001b[0;34m,\u001b[0m \u001b[0mcall\u001b[0m\u001b[0;34m\u001b[0m\u001b[0;34m\u001b[0m\u001b[0m\n",
            "\u001b[0;32msrc/python/grpcio/grpc/_cython/_cygrpc/channel.pyx.pxi\u001b[0m in \u001b[0;36mgrpc._cython.cygrpc.SegregatedCall.next_event\u001b[0;34m()\u001b[0m\n",
            "\u001b[0;32msrc/python/grpcio/grpc/_cython/_cygrpc/channel.pyx.pxi\u001b[0m in \u001b[0;36mgrpc._cython.cygrpc._next_call_event\u001b[0;34m()\u001b[0m\n",
            "\u001b[0;32msrc/python/grpcio/grpc/_cython/_cygrpc/channel.pyx.pxi\u001b[0m in \u001b[0;36mgrpc._cython.cygrpc._next_call_event\u001b[0;34m()\u001b[0m\n",
            "\u001b[0;32msrc/python/grpcio/grpc/_cython/_cygrpc/completion_queue.pyx.pxi\u001b[0m in \u001b[0;36mgrpc._cython.cygrpc._latent_event\u001b[0;34m()\u001b[0m\n",
            "\u001b[0;32msrc/python/grpcio/grpc/_cython/_cygrpc/completion_queue.pyx.pxi\u001b[0m in \u001b[0;36mgrpc._cython.cygrpc._internal_latent_event\u001b[0;34m()\u001b[0m\n",
            "\u001b[0;32msrc/python/grpcio/grpc/_cython/_cygrpc/completion_queue.pyx.pxi\u001b[0m in \u001b[0;36mgrpc._cython.cygrpc._interpret_event\u001b[0;34m()\u001b[0m\n",
            "\u001b[0;32msrc/python/grpcio/grpc/_cython/_cygrpc/tag.pyx.pxi\u001b[0m in \u001b[0;36mgrpc._cython.cygrpc._BatchOperationTag.event\u001b[0;34m()\u001b[0m\n",
            "\u001b[0;32msrc/python/grpcio/grpc/_cython/_cygrpc/operation.pyx.pxi\u001b[0m in \u001b[0;36mgrpc._cython.cygrpc.ReceiveInitialMetadataOperation.un_c\u001b[0;34m()\u001b[0m\n",
            "\u001b[0;32msrc/python/grpcio/grpc/_cython/_cygrpc/metadata.pyx.pxi\u001b[0m in \u001b[0;36mgrpc._cython.cygrpc._metadata\u001b[0;34m()\u001b[0m\n",
            "\u001b[0;32msrc/python/grpcio/grpc/_cython/_cygrpc/metadata.pyx.pxi\u001b[0m in \u001b[0;36mgenexpr\u001b[0;34m()\u001b[0m\n",
            "\u001b[0;32msrc/python/grpcio/grpc/_cython/_cygrpc/metadata.pyx.pxi\u001b[0m in \u001b[0;36mgrpc._cython.cygrpc._metadatum\u001b[0;34m()\u001b[0m\n",
            "\u001b[0;32m<string>\u001b[0m in \u001b[0;36m<lambda>\u001b[0;34m(_cls, key, value)\u001b[0m\n",
            "\u001b[0;31mKeyboardInterrupt\u001b[0m: "
          ]
        }
      ],
      "source": [
        "import os\n",
        "from google.cloud import vision\n",
        "\n",
        "# Đảm bảo Drive đã được mount và credentials đã set\n",
        "os.environ[\"GOOGLE_APPLICATION_CREDENTIALS\"] = \"/content/drive/MyDrive/credentials/projectsummarize-fbeb4ca13ea2.json\"\n",
        "\n",
        "client = vision.ImageAnnotatorClient()\n",
        "\n",
        "def google_vision_ocr(image_path):\n",
        "    with open(image_path, \"rb\") as image_file:\n",
        "        content = image_file.read()\n",
        "    image = vision.Image(content=content)\n",
        "    response = client.document_text_detection(image=image)\n",
        "    return response.full_text_annotation.text\n",
        "\n",
        "# 🔹 Thư mục chứa ảnh\n",
        "image_folder = \"/content/drive/MyDrive/images5/\"\n",
        "output_file = \"/content/drive/MyDrive/export_to_text/vision_text5.txt\"\n",
        "\n",
        "# 🔹 Mở file để ghi (chế độ 'a' = append thêm nội dung mới)\n",
        "with open(output_file, \"a\", encoding=\"utf-8\") as f:\n",
        "    for filename in os.listdir(image_folder):\n",
        "        if filename.lower().endswith((\".png\", \".jpg\", \".jpeg\", \".bmp\", \".tiff\")):\n",
        "            image_path = os.path.join(image_folder, filename)\n",
        "            print(f\"🔍 Đang OCR ảnh: {filename}\")\n",
        "            text = google_vision_ocr(image_path)\n",
        "\n",
        "            # Ghi vào file với tiêu đề ảnh\n",
        "            f.write(f\"\\n===== ẢNH: {filename} =====\\n\")\n",
        "            f.write(text + \"\\n\")\n",
        "\n",
        "print(\"✅ Hoàn thành OCR toàn bộ ảnh và lưu vào vision_text2.txt!\")\n"
      ]
    },
    {
      "cell_type": "code",
      "execution_count": 7,
      "id": "e334e925",
      "metadata": {
        "colab": {
          "base_uri": "https://localhost:8080/"
        },
        "id": "e334e925",
        "outputId": "22853848-e885-4a05-daf5-2706bf27d6c9"
      },
      "outputs": [
        {
          "output_type": "stream",
          "name": "stdout",
          "text": [
            "⏳ Đang load từ điển từ: /content/drive/MyDrive/vietnamese_dict.txt\n",
            "✅ Đã load từ điển. Số từ (cụm từ) trong bộ từ điển: 36531\n",
            "Ví dụ 20 từ: ['nương náu', 'non choẹt', 'tiết lộ', 'chở', 'duy thực', 'chim khuyên', 'đá magma', 'quý vị', 'thọ', 'cứu viện', 'con dấu', 'sôi', 'một lô một lốc', 'ướt rượt', 'quặt', 'dao phay', 'kê kích', 'mốc xì', 'phòng mạch', 'tên lửa đạn đạo']\n",
            "⏳ Bắt đầu xử lý file: /content/drive/MyDrive/export_to_text/vision_text5.txt\n"
          ]
        },
        {
          "output_type": "stream",
          "name": "stderr",
          "text": [
            "1326it [00:00, 1669.95it/s]"
          ]
        },
        {
          "output_type": "stream",
          "name": "stdout",
          "text": [
            "✅ Hoàn tất! File kết quả lưu tại: /content/drive/MyDrive/export_to_text/vision_text_fixed5.txt\n"
          ]
        },
        {
          "output_type": "stream",
          "name": "stderr",
          "text": [
            "\n"
          ]
        }
      ],
      "source": [
        "# =====================\n",
        "# Colab script: Sửa dấu + sửa lỗi nhẹ bằng từ điển (offline)\n",
        "# =====================\n",
        "\n",
        "# Yêu cầu: đã mount Drive trước đó\n",
        "\n",
        "import json\n",
        "import unicodedata\n",
        "import re\n",
        "from collections import defaultdict\n",
        "from tqdm import tqdm\n",
        "\n",
        "# ---------------------\n",
        "# Cấu hình đường dẫn\n",
        "# ---------------------\n",
        "DICT_PATH = \"/content/drive/MyDrive/vietnamese_dict.txt\"   # file JSONL bạn đã có\n",
        "INPUT_FILE = \"/content/drive/MyDrive/export_to_text/vision_text5.txt\"\n",
        "OUTPUT_FILE = \"/content/drive/MyDrive/export_to_text/vision_text_fixed5.txt\"\n",
        "\n",
        "# ---------------------\n",
        "# Hàm tiện ích: remove accents (chuẩn hoá không dấu)\n",
        "# ---------------------\n",
        "def remove_accents(s: str) -> str:\n",
        "    # chuẩn hoá NFD rồi loại bỏ các ký tự combining\n",
        "    s = unicodedata.normalize('NFD', s)\n",
        "    s = ''.join(ch for ch in s if unicodedata.category(ch) != 'Mn')\n",
        "    # chuyển một số ký tự đặc biệt về chuẩn ascii\n",
        "    s = s.replace('đ', 'd').replace('Đ', 'D')\n",
        "    return unicodedata.normalize('NFC', s)\n",
        "\n",
        "# ---------------------\n",
        "# Hàm Levenshtein với ngưỡng dừng sớm (early stop)\n",
        "# ---------------------\n",
        "def levenshtein_with_max(a: str, b: str, max_dist: int):\n",
        "    # returns distance if <= max_dist, else returns a value > max_dist\n",
        "    # optimized: use two-row DP\n",
        "    if abs(len(a) - len(b)) > max_dist:\n",
        "        return max_dist + 1\n",
        "    if len(a) < len(b):\n",
        "        a, b = b, a\n",
        "    previous = list(range(len(b) + 1))\n",
        "    for i, ca in enumerate(a, start=1):\n",
        "        current = [i] + [0] * len(b)\n",
        "        # compute current row with pruning\n",
        "        min_in_row = current[0]\n",
        "        for j, cb in enumerate(b, start=1):\n",
        "            insert_cost = current[j-1] + 1\n",
        "            delete_cost = previous[j] + 1\n",
        "            replace_cost = previous[j-1] + (0 if ca == cb else 1)\n",
        "            current[j] = min(insert_cost, delete_cost, replace_cost)\n",
        "            if current[j] < min_in_row:\n",
        "                min_in_row = current[j]\n",
        "        if min_in_row > max_dist:\n",
        "            return max_dist + 1\n",
        "        previous = current\n",
        "    return previous[-1]\n",
        "\n",
        "# ---------------------\n",
        "# Load từ điển JSONL -> tập các từ hợp lệ + map không dấu -> list từ\n",
        "# ---------------------\n",
        "vietnamese_words = set()\n",
        "deaccent_map = defaultdict(list)\n",
        "\n",
        "print(\"⏳ Đang load từ điển từ:\", DICT_PATH)\n",
        "with open(DICT_PATH, \"r\", encoding=\"utf-8\") as f:\n",
        "    for line in f:\n",
        "        line = line.strip()\n",
        "        if not line:\n",
        "            continue\n",
        "        try:\n",
        "            item = json.loads(line)\n",
        "            word = item.get(\"text\", \"\").strip()\n",
        "            if not word:\n",
        "                continue\n",
        "            # chuẩn hoá: chữ thường\n",
        "            key = word.lower()\n",
        "            # chỉ giữ nếu có chữ (có thể chứa space cho cụm từ)\n",
        "            # loại bỏ những dòng có kí tự lạ ở đầu\n",
        "            if any(ch.isalpha() for ch in key):\n",
        "                vietnamese_words.add(key)\n",
        "                deacc = remove_accents(key).lower()\n",
        "                deaccent_map[deacc].append(key)\n",
        "        except Exception as e:\n",
        "            # bỏ qua dòng lỗi\n",
        "            continue\n",
        "\n",
        "print(\"✅ Đã load từ điển. Số từ (cụm từ) trong bộ từ điển:\", len(vietnamese_words))\n",
        "print(\"Ví dụ 20 từ:\", list(vietnamese_words)[:20])\n",
        "\n",
        "# ---------------------\n",
        "# Tokenize đơn giản (giữ punctuation để phục hồi)\n",
        "# ---------------------\n",
        "token_split_re = re.compile(r\"(\\w+|[^\\w\\s])\", flags=re.UNICODE)\n",
        "\n",
        "def smart_tokenize(line: str):\n",
        "    # trả về list token, giữ nguyên dấu câu là token riêng\n",
        "    return token_split_re.findall(line)\n",
        "\n",
        "def is_number_only(s: str):\n",
        "    s_stripped = s.strip()\n",
        "    # nếu chỉ có số hoặc chỉ chứa số+punct\n",
        "    return bool(re.fullmatch(r\"[\\d\\W]+\", s_stripped)) and any(ch.isdigit() for ch in s_stripped)\n",
        "\n",
        "# ---------------------\n",
        "# Hàm sửa 1 token bằng từ điển\n",
        "# ---------------------\n",
        "def correct_token(token: str, max_lev=2):\n",
        "    \"\"\"\n",
        "    token: token nguyên bản (có thể kèm hoa thường)\n",
        "    trả về token đã sửa (giữ nguyên kiểu hoa)\n",
        "    logic:\n",
        "      1. nếu token trong dict -> giữ\n",
        "      2. thử tìm trong deaccent_map (khớp không dấu)\n",
        "      3. tìm từ gần nhất bằng levenshtein trong dictionary nhưng chỉ xét từ có độ dài tương đương\n",
        "    \"\"\"\n",
        "    orig = token\n",
        "    # giữ nguyên nếu token là punctuation\n",
        "    if not any(ch.isalpha() for ch in token):\n",
        "        return token\n",
        "\n",
        "    # tách prefix/suffix punctuation (ví dụ: \"Em,\" -> 'Em' và ',')\n",
        "    prefix = re.match(r'^[^\\w]*', token).group(0) if re.match(r'^[^\\w]*', token) else ''\n",
        "    suffix = re.search(r'[^\\w]*$', token).group(0) if re.search(r'[^\\w]*$', token) else ''\n",
        "    core = token[len(prefix): len(token)-len(suffix) if suffix else None]\n",
        "\n",
        "    if not core:\n",
        "        return token\n",
        "\n",
        "    # remember capitalization\n",
        "    is_title = core.istitle()\n",
        "    is_upper = core.isupper()\n",
        "\n",
        "    core_low = core.lower()\n",
        "\n",
        "    # 1) exact match\n",
        "    if core_low in vietnamese_words:\n",
        "        corrected = core_low\n",
        "    else:\n",
        "        # 2) match via deaccent map\n",
        "        de = remove_accents(core_low)\n",
        "        candidates = deaccent_map.get(de, [])\n",
        "        if candidates:\n",
        "            # choose candidate with minimal levenshtein to core_low (with limit)\n",
        "            best = None\n",
        "            bestd = max_lev + 10\n",
        "            for c in candidates:\n",
        "                d = levenshtein_with_max(core_low, c, max_lev)\n",
        "                if d <= max_lev and d < bestd:\n",
        "                    best = c\n",
        "                    bestd = d\n",
        "            if best:\n",
        "                corrected = best\n",
        "            else:\n",
        "                # if none within max_lev, choose first candidate as fallback\n",
        "                corrected = candidates[0]\n",
        "        else:\n",
        "            # 3) fallback: scan dictionary for nearby words (expensive but limited by length)\n",
        "            best = None\n",
        "            bestd = max_lev + 10\n",
        "            L = len(core_low)\n",
        "            # iterate through words of similar length only to reduce cost\n",
        "            # choose lengths L-1, L, L+1\n",
        "            for w in vietnamese_words:\n",
        "                if abs(len(w) - L) > 1:\n",
        "                    continue\n",
        "                d = levenshtein_with_max(core_low, w, max_lev)\n",
        "                if d <= max_lev and d < bestd:\n",
        "                    best = w\n",
        "                    bestd = d\n",
        "                    if bestd == 0:\n",
        "                        break\n",
        "            if best:\n",
        "                corrected = best\n",
        "            else:\n",
        "                # không tìm được -> giữ nguyên\n",
        "                corrected = core_low\n",
        "\n",
        "    # restore capitalization similar to original\n",
        "    if is_upper:\n",
        "        out = corrected.upper()\n",
        "    elif is_title:\n",
        "        out = corrected.capitalize()\n",
        "    else:\n",
        "        out = corrected\n",
        "\n",
        "    return prefix + out + suffix\n",
        "\n",
        "# ---------------------\n",
        "# Xử lý toàn file\n",
        "# ---------------------\n",
        "print(\"⏳ Bắt đầu xử lý file:\", INPUT_FILE)\n",
        "with open(INPUT_FILE, \"r\", encoding=\"utf-8\") as fin, \\\n",
        "     open(OUTPUT_FILE, \"w\", encoding=\"utf-8\") as fout:\n",
        "    for raw_line in tqdm(fin):\n",
        "        line = raw_line.rstrip(\"\\n\")\n",
        "        stripped = line.strip()\n",
        "\n",
        "        # Giữ nguyên các dòng định dạng ảnh\n",
        "        if stripped.startswith(\"=====\") and \"ẢNH\" in stripped:\n",
        "            fout.write(line + \"\\n\")\n",
        "            continue\n",
        "\n",
        "        # Bỏ các dòng chỉ toàn số / ký tự rác\n",
        "        if is_number_only(stripped):\n",
        "            # bỏ hoàn toàn (hoặc có thể ghi newline nếu muốn giữ vị trí)\n",
        "            # chúng ta ghi 1 dòng rỗng để giữ đôi chút format\n",
        "            fout.write(\"\\n\")\n",
        "            continue\n",
        "\n",
        "        if stripped == \"\":\n",
        "            fout.write(\"\\n\")\n",
        "            continue\n",
        "\n",
        "        # Tokenize và sửa từng token\n",
        "        tokens = smart_tokenize(line)\n",
        "        corrected_tokens = [correct_token(t) for t in tokens]\n",
        "        new_line = \"\".join(\n",
        "            # smart join: nếu token là word and next token is word, insert space\n",
        "            # but tokenization keeps words and punctuation separate; we'll rebuild with spaces when needed\n",
        "            corrected_tokens[i] + (\"\" if (i+1 < len(corrected_tokens) and re.match(r'[^\\w\\s]', corrected_tokens[i+1])) else \" \")\n",
        "            for i in range(len(corrected_tokens))\n",
        "        ).rstrip()\n",
        "\n",
        "        fout.write(new_line + \"\\n\")\n",
        "\n",
        "print(\"✅ Hoàn tất! File kết quả lưu tại:\", OUTPUT_FILE)\n"
      ]
    },
    {
      "cell_type": "code",
      "execution_count": 8,
      "id": "ac85a0c8",
      "metadata": {
        "colab": {
          "base_uri": "https://localhost:8080/"
        },
        "id": "ac85a0c8",
        "outputId": "69a62947-61ce-4d0a-88f8-d5ffbce60a31"
      },
      "outputs": [
        {
          "output_type": "stream",
          "name": "stdout",
          "text": [
            "✅ Tổng số từ trong từ điển: 36167\n",
            "['nương náu', 'non choẹt', 'tiết lộ', 'chở', 'duy thực', 'chim khuyên', 'đá magma', 'quý vị', 'thọ', 'cứu viện', 'con dấu', 'sôi', 'một lô một lốc', 'ướt rượt', 'quặt', 'dao phay', 'kê kích', 'mốc xì', 'phòng mạch', 'tên lửa đạn đạo']\n",
            "✅ Đã lọc xong! File mới tại: /content/drive/MyDrive/export_to_text/vision_text_clean5.txt\n"
          ]
        }
      ],
      "source": [
        "import json\n",
        "\n",
        "dict_path = \"/content/drive/MyDrive/vietnamese_dict.txt\"  # ✅ Đường dẫn bạn cung cấp\n",
        "\n",
        "vietnamese_words = set()\n",
        "with open(dict_path, \"r\", encoding=\"utf-8\") as f:\n",
        "    for line in f:\n",
        "        try:\n",
        "            item = json.loads(line.strip())\n",
        "            word = item.get(\"text\", \"\").strip().lower()\n",
        "            if word and word.replace(\" \", \"\").isalpha():  # Cho phép cụm từ có dấu cách\n",
        "                vietnamese_words.add(word)\n",
        "        except:\n",
        "            pass\n",
        "\n",
        "print(\"✅ Tổng số từ trong từ điển:\", len(vietnamese_words))\n",
        "print(list(vietnamese_words)[:20])  # xem thử\n",
        "\n",
        "# ==========================================\n",
        "# 3️⃣ Hàm lọc từng dòng\n",
        "# ==========================================\n",
        "def clean_line(line):\n",
        "    words = line.split()\n",
        "    cleaned = [w for w in words if w.lower().strip(\".,!?;:()\\\"'\") in vietnamese_words]\n",
        "    return \" \".join(cleaned)\n",
        "\n",
        "# ==========================================\n",
        "# 4️⃣ Đọc file OCR gốc → tạo file sạch\n",
        "# ==========================================\n",
        "input_file = \"/content/drive/MyDrive/export_to_text/vision_text_fixed5.txt\"\n",
        "output_file = \"/content/drive/MyDrive/export_to_text/vision_text_clean5.txt\"\n",
        "\n",
        "with open(input_file, \"r\", encoding=\"utf-8\") as fin, \\\n",
        "     open(output_file, \"w\", encoding=\"utf-8\") as fout:\n",
        "    for line in fin:\n",
        "        cleaned = clean_line(line)\n",
        "        fout.write(cleaned + \"\\n\")\n",
        "\n",
        "print(\"✅ Đã lọc xong! File mới tại:\", output_file)\n"
      ]
    }
  ],
  "metadata": {
    "language_info": {
      "name": "python"
    },
    "colab": {
      "provenance": []
    },
    "kernelspec": {
      "name": "python3",
      "display_name": "Python 3"
    }
  },
  "nbformat": 4,
  "nbformat_minor": 5
}