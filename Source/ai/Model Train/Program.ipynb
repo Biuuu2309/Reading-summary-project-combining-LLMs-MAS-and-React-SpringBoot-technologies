{
 "cells": [
  {
   "cell_type": "code",
   "execution_count": 3,
   "id": "d93b2cc3",
   "metadata": {},
   "outputs": [],
   "source": [
    "# Cell 2: Import các thư viện\n",
    "from transformers import AutoTokenizer, AutoModelForSequenceClassification, Trainer, TrainingArguments\n",
    "from underthesea import word_tokenize\n",
    "import pandas as pd\n",
    "import numpy as np\n",
    "from sklearn.model_selection import train_test_split\n",
    "import torch\n",
    "import optuna\n",
    "from datasets import Dataset"
   ]
  },
  {
   "cell_type": "code",
   "execution_count": null,
   "id": "6b25343e",
   "metadata": {},
   "outputs": [],
   "source": [
    "data = pd.read_excel(\"baidoc100.xlsx\")  # Thay bằng đường dẫn file của bạn\n",
    "print(data.head())"
   ]
  }
 ],
 "metadata": {
  "kernelspec": {
   "display_name": "pytorch-env",
   "language": "python",
   "name": "python3"
  },
  "language_info": {
   "codemirror_mode": {
    "name": "ipython",
    "version": 3
   },
   "file_extension": ".py",
   "mimetype": "text/x-python",
   "name": "python",
   "nbconvert_exporter": "python",
   "pygments_lexer": "ipython3",
   "version": "3.9.21"
  }
 },
 "nbformat": 4,
 "nbformat_minor": 5
}
